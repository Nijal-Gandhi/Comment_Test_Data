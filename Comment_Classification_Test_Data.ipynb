{
 "cells": [
  {
   "cell_type": "markdown",
   "id": "2ea4a2f2",
   "metadata": {},
   "source": []
  },
  {
   "cell_type": "code",
   "execution_count": 1,
   "id": "a55d679c",
   "metadata": {},
   "outputs": [],
   "source": [
    "import os\n",
    "import pandas as pd\n",
    "import tensorflow as tf\n",
    "import numpy as np\n",
    "import seaborn as sns\n",
    "import matplotlib.pyplot as plt"
   ]
  },
  {
   "cell_type": "code",
   "execution_count": 2,
   "id": "2830d416",
   "metadata": {},
   "outputs": [],
   "source": [
    "data = pd.read_csv(\"D:\\desertation\\IRSE_FIRE_2022_Track_Test_Data_1000.csv\")"
   ]
  },
  {
   "cell_type": "code",
   "execution_count": 3,
   "id": "182373c4",
   "metadata": {},
   "outputs": [
    {
     "name": "stdout",
     "output_type": "stream",
     "text": [
      "<class 'pandas.core.frame.DataFrame'>\n",
      "RangeIndex: 1001 entries, 0 to 1000\n",
      "Data columns (total 3 columns):\n",
      " #   Column                    Non-Null Count  Dtype \n",
      "---  ------                    --------------  ----- \n",
      " 0   Comments                  1001 non-null   object\n",
      " 1   Surrounding Code Context  1001 non-null   object\n",
      " 2   Class                     1001 non-null   object\n",
      "dtypes: object(3)\n",
      "memory usage: 23.6+ KB\n"
     ]
    }
   ],
   "source": [
    "data.info()"
   ]
  },
  {
   "cell_type": "code",
   "execution_count": 4,
   "id": "9f0a9de9",
   "metadata": {},
   "outputs": [
    {
     "data": {
      "text/html": [
       "<div>\n",
       "<style scoped>\n",
       "    .dataframe tbody tr th:only-of-type {\n",
       "        vertical-align: middle;\n",
       "    }\n",
       "\n",
       "    .dataframe tbody tr th {\n",
       "        vertical-align: top;\n",
       "    }\n",
       "\n",
       "    .dataframe thead th {\n",
       "        text-align: right;\n",
       "    }\n",
       "</style>\n",
       "<table border=\"1\" class=\"dataframe\">\n",
       "  <thead>\n",
       "    <tr style=\"text-align: right;\">\n",
       "      <th></th>\n",
       "      <th>Comments</th>\n",
       "      <th>Surrounding Code Context</th>\n",
       "      <th>Class</th>\n",
       "    </tr>\n",
       "  </thead>\n",
       "  <tbody>\n",
       "    <tr>\n",
       "      <th>0</th>\n",
       "      <td>/*READ_INT_FUNCTIONS*/</td>\n",
       "      <td>-5.    if (png_ptr != NULL)\\n-4.       png_war...</td>\n",
       "      <td>Not Useful</td>\n",
       "    </tr>\n",
       "    <tr>\n",
       "      <th>1</th>\n",
       "      <td>/*Put the chunk name into png_ptr-&gt;chunk_name.*/</td>\n",
       "      <td>-2.    png_read_data(png_ptr, buf, 8);\\n-1.   ...</td>\n",
       "      <td>Not Useful</td>\n",
       "    </tr>\n",
       "    <tr>\n",
       "      <th>2</th>\n",
       "      <td>/*critical*/</td>\n",
       "      <td>-8. png_crc_read(png_structrp png_ptr, png_byt...</td>\n",
       "      <td>Not Useful</td>\n",
       "    </tr>\n",
       "    <tr>\n",
       "      <th>3</th>\n",
       "      <td>/*READ_iCCP|iTXt|pCAL|sCAL|sPLT|tEXt|zTXt|SEQU...</td>\n",
       "      <td>-9.       {\\n-8.          if (warn != 0)\\n-7. ...</td>\n",
       "      <td>Not Useful</td>\n",
       "    </tr>\n",
       "    <tr>\n",
       "      <th>4</th>\n",
       "      <td>/*ZLIB_VERNUM &gt;= 0x1240*/</td>\n",
       "      <td>#if ZLIB_VERNUM &gt;= 0x1240\\n\\n/*ZLIB_VERNUM &gt;= ...</td>\n",
       "      <td>Not Useful</td>\n",
       "    </tr>\n",
       "  </tbody>\n",
       "</table>\n",
       "</div>"
      ],
      "text/plain": [
       "                                            Comments  \\\n",
       "0                             /*READ_INT_FUNCTIONS*/   \n",
       "1   /*Put the chunk name into png_ptr->chunk_name.*/   \n",
       "2                                       /*critical*/   \n",
       "3  /*READ_iCCP|iTXt|pCAL|sCAL|sPLT|tEXt|zTXt|SEQU...   \n",
       "4                          /*ZLIB_VERNUM >= 0x1240*/   \n",
       "\n",
       "                            Surrounding Code Context       Class  \n",
       "0  -5.    if (png_ptr != NULL)\\n-4.       png_war...  Not Useful  \n",
       "1  -2.    png_read_data(png_ptr, buf, 8);\\n-1.   ...  Not Useful  \n",
       "2  -8. png_crc_read(png_structrp png_ptr, png_byt...  Not Useful  \n",
       "3  -9.       {\\n-8.          if (warn != 0)\\n-7. ...  Not Useful  \n",
       "4  #if ZLIB_VERNUM >= 0x1240\\n\\n/*ZLIB_VERNUM >= ...  Not Useful  "
      ]
     },
     "execution_count": 4,
     "metadata": {},
     "output_type": "execute_result"
    }
   ],
   "source": [
    "data.head()"
   ]
  },
  {
   "cell_type": "code",
   "execution_count": 5,
   "id": "ff506aec",
   "metadata": {},
   "outputs": [
    {
     "data": {
      "text/html": [
       "<div>\n",
       "<style scoped>\n",
       "    .dataframe tbody tr th:only-of-type {\n",
       "        vertical-align: middle;\n",
       "    }\n",
       "\n",
       "    .dataframe tbody tr th {\n",
       "        vertical-align: top;\n",
       "    }\n",
       "\n",
       "    .dataframe thead th {\n",
       "        text-align: right;\n",
       "    }\n",
       "</style>\n",
       "<table border=\"1\" class=\"dataframe\">\n",
       "  <thead>\n",
       "    <tr style=\"text-align: right;\">\n",
       "      <th></th>\n",
       "      <th>Comments</th>\n",
       "      <th>Surrounding Code Context</th>\n",
       "      <th>Class</th>\n",
       "    </tr>\n",
       "  </thead>\n",
       "  <tbody>\n",
       "    <tr>\n",
       "      <th>0</th>\n",
       "      <td>/*READ_INT_FUNCTIONS*/</td>\n",
       "      <td>-5.    if (png_ptr != NULL)\\n-4.       png_war...</td>\n",
       "      <td>Not Useful</td>\n",
       "    </tr>\n",
       "    <tr>\n",
       "      <th>1</th>\n",
       "      <td>/*Put the chunk name into png_ptr-&gt;chunk_name.*/</td>\n",
       "      <td>-2.    png_read_data(png_ptr, buf, 8);\\n-1.   ...</td>\n",
       "      <td>Not Useful</td>\n",
       "    </tr>\n",
       "    <tr>\n",
       "      <th>2</th>\n",
       "      <td>/*critical*/</td>\n",
       "      <td>-8. png_crc_read(png_structrp png_ptr, png_byt...</td>\n",
       "      <td>Not Useful</td>\n",
       "    </tr>\n",
       "    <tr>\n",
       "      <th>3</th>\n",
       "      <td>/*READ_iCCP|iTXt|pCAL|sCAL|sPLT|tEXt|zTXt|SEQU...</td>\n",
       "      <td>-9.       {\\n-8.          if (warn != 0)\\n-7. ...</td>\n",
       "      <td>Not Useful</td>\n",
       "    </tr>\n",
       "    <tr>\n",
       "      <th>4</th>\n",
       "      <td>/*ZLIB_VERNUM &gt;= 0x1240*/</td>\n",
       "      <td>#if ZLIB_VERNUM &gt;= 0x1240\\n\\n/*ZLIB_VERNUM &gt;= ...</td>\n",
       "      <td>Not Useful</td>\n",
       "    </tr>\n",
       "    <tr>\n",
       "      <th>...</th>\n",
       "      <td>...</td>\n",
       "      <td>...</td>\n",
       "      <td>...</td>\n",
       "    </tr>\n",
       "    <tr>\n",
       "      <th>996</th>\n",
       "      <td>/*The following document where the background ...</td>\n",
       "      <td>-5. #define PNG_CMAP_NONE      0\\n\\n /*The fol...</td>\n",
       "      <td>Useful</td>\n",
       "    </tr>\n",
       "    <tr>\n",
       "      <th>997</th>\n",
       "      <td>/*Do all the *safe* initialization - 'safe' me...</td>\n",
       "      <td>-1. } png_image_read_control;\\n/* Do all the *...</td>\n",
       "      <td>Useful</td>\n",
       "    </tr>\n",
       "    <tr>\n",
       "      <th>998</th>\n",
       "      <td>/*And set the rest of the structure to NULL to...</td>\n",
       "      <td>-10.  * called from here must *not* call png_m...</td>\n",
       "      <td>Useful</td>\n",
       "    </tr>\n",
       "    <tr>\n",
       "      <th>999</th>\n",
       "      <td>/*Use png_ptr here, not info_ptr, because by e...</td>\n",
       "      <td>-8. static png_uint_32\\n-7. png_image_format(p...</td>\n",
       "      <td>Useful</td>\n",
       "    </tr>\n",
       "    <tr>\n",
       "      <th>1000</th>\n",
       "      <td>/*Is the given gamma significantly different f...</td>\n",
       "      <td>-10.     * is unclear.\\n-9.     */\\n-8.    els...</td>\n",
       "      <td>Useful</td>\n",
       "    </tr>\n",
       "  </tbody>\n",
       "</table>\n",
       "<p>1001 rows × 3 columns</p>\n",
       "</div>"
      ],
      "text/plain": [
       "                                               Comments  \\\n",
       "0                                /*READ_INT_FUNCTIONS*/   \n",
       "1      /*Put the chunk name into png_ptr->chunk_name.*/   \n",
       "2                                          /*critical*/   \n",
       "3     /*READ_iCCP|iTXt|pCAL|sCAL|sPLT|tEXt|zTXt|SEQU...   \n",
       "4                             /*ZLIB_VERNUM >= 0x1240*/   \n",
       "...                                                 ...   \n",
       "996   /*The following document where the background ...   \n",
       "997   /*Do all the *safe* initialization - 'safe' me...   \n",
       "998   /*And set the rest of the structure to NULL to...   \n",
       "999   /*Use png_ptr here, not info_ptr, because by e...   \n",
       "1000  /*Is the given gamma significantly different f...   \n",
       "\n",
       "                               Surrounding Code Context       Class  \n",
       "0     -5.    if (png_ptr != NULL)\\n-4.       png_war...  Not Useful  \n",
       "1     -2.    png_read_data(png_ptr, buf, 8);\\n-1.   ...  Not Useful  \n",
       "2     -8. png_crc_read(png_structrp png_ptr, png_byt...  Not Useful  \n",
       "3     -9.       {\\n-8.          if (warn != 0)\\n-7. ...  Not Useful  \n",
       "4     #if ZLIB_VERNUM >= 0x1240\\n\\n/*ZLIB_VERNUM >= ...  Not Useful  \n",
       "...                                                 ...         ...  \n",
       "996   -5. #define PNG_CMAP_NONE      0\\n\\n /*The fol...      Useful  \n",
       "997   -1. } png_image_read_control;\\n/* Do all the *...      Useful  \n",
       "998   -10.  * called from here must *not* call png_m...      Useful  \n",
       "999   -8. static png_uint_32\\n-7. png_image_format(p...      Useful  \n",
       "1000  -10.     * is unclear.\\n-9.     */\\n-8.    els...      Useful  \n",
       "\n",
       "[1001 rows x 3 columns]"
      ]
     },
     "execution_count": 5,
     "metadata": {},
     "output_type": "execute_result"
    }
   ],
   "source": [
    "data"
   ]
  },
  {
   "cell_type": "code",
   "execution_count": 6,
   "id": "5688a307",
   "metadata": {},
   "outputs": [
    {
     "data": {
      "text/plain": [
       "Comments                    0\n",
       "Surrounding Code Context    0\n",
       "Class                       0\n",
       "dtype: int64"
      ]
     },
     "execution_count": 6,
     "metadata": {},
     "output_type": "execute_result"
    }
   ],
   "source": [
    "data.isnull().sum()"
   ]
  },
  {
   "cell_type": "code",
   "execution_count": 7,
   "id": "a9377e49",
   "metadata": {},
   "outputs": [
    {
     "data": {
      "text/plain": [
       "Index(['Comments', 'Surrounding Code Context', 'Class'], dtype='object')"
      ]
     },
     "execution_count": 7,
     "metadata": {},
     "output_type": "execute_result"
    }
   ],
   "source": [
    "# Get the columns name \n",
    "data.columns"
   ]
  },
  {
   "cell_type": "code",
   "execution_count": 8,
   "id": "59413ce7",
   "metadata": {},
   "outputs": [
    {
     "name": "stdout",
     "output_type": "stream",
     "text": [
      "Empty DataFrame\n",
      "Columns: []\n",
      "Index: []\n"
     ]
    }
   ],
   "source": [
    "print(data.corr())"
   ]
  },
  {
   "cell_type": "code",
   "execution_count": null,
   "id": "ef480563",
   "metadata": {},
   "outputs": [],
   "source": []
  },
  {
   "cell_type": "code",
   "execution_count": 9,
   "id": "be19c6a6",
   "metadata": {},
   "outputs": [
    {
     "data": {
      "text/plain": [
       "Index(['Comments', 'Surrounding Code Context', 'Class'], dtype='object')"
      ]
     },
     "execution_count": 9,
     "metadata": {},
     "output_type": "execute_result"
    }
   ],
   "source": [
    "data.columns"
   ]
  },
  {
   "cell_type": "code",
   "execution_count": 10,
   "id": "82d180cc",
   "metadata": {
    "scrolled": true
   },
   "outputs": [
    {
     "data": {
      "text/html": [
       "<div>\n",
       "<style scoped>\n",
       "    .dataframe tbody tr th:only-of-type {\n",
       "        vertical-align: middle;\n",
       "    }\n",
       "\n",
       "    .dataframe tbody tr th {\n",
       "        vertical-align: top;\n",
       "    }\n",
       "\n",
       "    .dataframe thead th {\n",
       "        text-align: right;\n",
       "    }\n",
       "</style>\n",
       "<table border=\"1\" class=\"dataframe\">\n",
       "  <thead>\n",
       "    <tr style=\"text-align: right;\">\n",
       "      <th></th>\n",
       "      <th>Comments</th>\n",
       "      <th>Surrounding Code Context</th>\n",
       "      <th>Class</th>\n",
       "    </tr>\n",
       "  </thead>\n",
       "  <tbody>\n",
       "    <tr>\n",
       "      <th>0</th>\n",
       "      <td>/*READ_INT_FUNCTIONS*/</td>\n",
       "      <td>-5.    if (png_ptr != NULL)\\n-4.       png_war...</td>\n",
       "      <td>Not Useful</td>\n",
       "    </tr>\n",
       "    <tr>\n",
       "      <th>1</th>\n",
       "      <td>/*Put the chunk name into png_ptr-&gt;chunk_name.*/</td>\n",
       "      <td>-2.    png_read_data(png_ptr, buf, 8);\\n-1.   ...</td>\n",
       "      <td>Not Useful</td>\n",
       "    </tr>\n",
       "    <tr>\n",
       "      <th>2</th>\n",
       "      <td>/*critical*/</td>\n",
       "      <td>-8. png_crc_read(png_structrp png_ptr, png_byt...</td>\n",
       "      <td>Not Useful</td>\n",
       "    </tr>\n",
       "    <tr>\n",
       "      <th>3</th>\n",
       "      <td>/*READ_iCCP|iTXt|pCAL|sCAL|sPLT|tEXt|zTXt|SEQU...</td>\n",
       "      <td>-9.       {\\n-8.          if (warn != 0)\\n-7. ...</td>\n",
       "      <td>Not Useful</td>\n",
       "    </tr>\n",
       "    <tr>\n",
       "      <th>4</th>\n",
       "      <td>/*ZLIB_VERNUM &gt;= 0x1240*/</td>\n",
       "      <td>#if ZLIB_VERNUM &gt;= 0x1240\\n\\n/*ZLIB_VERNUM &gt;= ...</td>\n",
       "      <td>Not Useful</td>\n",
       "    </tr>\n",
       "    <tr>\n",
       "      <th>...</th>\n",
       "      <td>...</td>\n",
       "      <td>...</td>\n",
       "      <td>...</td>\n",
       "    </tr>\n",
       "    <tr>\n",
       "      <th>996</th>\n",
       "      <td>/*The following document where the background ...</td>\n",
       "      <td>-5. #define PNG_CMAP_NONE      0\\n\\n /*The fol...</td>\n",
       "      <td>Useful</td>\n",
       "    </tr>\n",
       "    <tr>\n",
       "      <th>997</th>\n",
       "      <td>/*Do all the *safe* initialization - 'safe' me...</td>\n",
       "      <td>-1. } png_image_read_control;\\n/* Do all the *...</td>\n",
       "      <td>Useful</td>\n",
       "    </tr>\n",
       "    <tr>\n",
       "      <th>998</th>\n",
       "      <td>/*And set the rest of the structure to NULL to...</td>\n",
       "      <td>-10.  * called from here must *not* call png_m...</td>\n",
       "      <td>Useful</td>\n",
       "    </tr>\n",
       "    <tr>\n",
       "      <th>999</th>\n",
       "      <td>/*Use png_ptr here, not info_ptr, because by e...</td>\n",
       "      <td>-8. static png_uint_32\\n-7. png_image_format(p...</td>\n",
       "      <td>Useful</td>\n",
       "    </tr>\n",
       "    <tr>\n",
       "      <th>1000</th>\n",
       "      <td>/*Is the given gamma significantly different f...</td>\n",
       "      <td>-10.     * is unclear.\\n-9.     */\\n-8.    els...</td>\n",
       "      <td>Useful</td>\n",
       "    </tr>\n",
       "  </tbody>\n",
       "</table>\n",
       "<p>1001 rows × 3 columns</p>\n",
       "</div>"
      ],
      "text/plain": [
       "                                               Comments  \\\n",
       "0                                /*READ_INT_FUNCTIONS*/   \n",
       "1      /*Put the chunk name into png_ptr->chunk_name.*/   \n",
       "2                                          /*critical*/   \n",
       "3     /*READ_iCCP|iTXt|pCAL|sCAL|sPLT|tEXt|zTXt|SEQU...   \n",
       "4                             /*ZLIB_VERNUM >= 0x1240*/   \n",
       "...                                                 ...   \n",
       "996   /*The following document where the background ...   \n",
       "997   /*Do all the *safe* initialization - 'safe' me...   \n",
       "998   /*And set the rest of the structure to NULL to...   \n",
       "999   /*Use png_ptr here, not info_ptr, because by e...   \n",
       "1000  /*Is the given gamma significantly different f...   \n",
       "\n",
       "                               Surrounding Code Context       Class  \n",
       "0     -5.    if (png_ptr != NULL)\\n-4.       png_war...  Not Useful  \n",
       "1     -2.    png_read_data(png_ptr, buf, 8);\\n-1.   ...  Not Useful  \n",
       "2     -8. png_crc_read(png_structrp png_ptr, png_byt...  Not Useful  \n",
       "3     -9.       {\\n-8.          if (warn != 0)\\n-7. ...  Not Useful  \n",
       "4     #if ZLIB_VERNUM >= 0x1240\\n\\n/*ZLIB_VERNUM >= ...  Not Useful  \n",
       "...                                                 ...         ...  \n",
       "996   -5. #define PNG_CMAP_NONE      0\\n\\n /*The fol...      Useful  \n",
       "997   -1. } png_image_read_control;\\n/* Do all the *...      Useful  \n",
       "998   -10.  * called from here must *not* call png_m...      Useful  \n",
       "999   -8. static png_uint_32\\n-7. png_image_format(p...      Useful  \n",
       "1000  -10.     * is unclear.\\n-9.     */\\n-8.    els...      Useful  \n",
       "\n",
       "[1001 rows x 3 columns]"
      ]
     },
     "execution_count": 10,
     "metadata": {},
     "output_type": "execute_result"
    }
   ],
   "source": [
    "data"
   ]
  },
  {
   "cell_type": "code",
   "execution_count": null,
   "id": "7571e513",
   "metadata": {},
   "outputs": [],
   "source": []
  },
  {
   "cell_type": "code",
   "execution_count": 11,
   "id": "21941b49",
   "metadata": {},
   "outputs": [],
   "source": [
    "# change labels\n",
    "data_labels = data[\"Class\"].values\n",
    "data_labels[data_labels == \"Useful\"] = 0\n",
    "data_labels[data_labels == \"Not Useful\"] = 1"
   ]
  },
  {
   "cell_type": "code",
   "execution_count": 12,
   "id": "bb4e8fa5",
   "metadata": {},
   "outputs": [
    {
     "data": {
      "text/html": [
       "<div>\n",
       "<style scoped>\n",
       "    .dataframe tbody tr th:only-of-type {\n",
       "        vertical-align: middle;\n",
       "    }\n",
       "\n",
       "    .dataframe tbody tr th {\n",
       "        vertical-align: top;\n",
       "    }\n",
       "\n",
       "    .dataframe thead th {\n",
       "        text-align: right;\n",
       "    }\n",
       "</style>\n",
       "<table border=\"1\" class=\"dataframe\">\n",
       "  <thead>\n",
       "    <tr style=\"text-align: right;\">\n",
       "      <th></th>\n",
       "      <th>Comments</th>\n",
       "      <th>Surrounding Code Context</th>\n",
       "      <th>Class</th>\n",
       "    </tr>\n",
       "  </thead>\n",
       "  <tbody>\n",
       "    <tr>\n",
       "      <th>0</th>\n",
       "      <td>/*READ_INT_FUNCTIONS*/</td>\n",
       "      <td>-5.    if (png_ptr != NULL)\\n-4.       png_war...</td>\n",
       "      <td>1</td>\n",
       "    </tr>\n",
       "    <tr>\n",
       "      <th>1</th>\n",
       "      <td>/*Put the chunk name into png_ptr-&gt;chunk_name.*/</td>\n",
       "      <td>-2.    png_read_data(png_ptr, buf, 8);\\n-1.   ...</td>\n",
       "      <td>1</td>\n",
       "    </tr>\n",
       "    <tr>\n",
       "      <th>2</th>\n",
       "      <td>/*critical*/</td>\n",
       "      <td>-8. png_crc_read(png_structrp png_ptr, png_byt...</td>\n",
       "      <td>1</td>\n",
       "    </tr>\n",
       "    <tr>\n",
       "      <th>3</th>\n",
       "      <td>/*READ_iCCP|iTXt|pCAL|sCAL|sPLT|tEXt|zTXt|SEQU...</td>\n",
       "      <td>-9.       {\\n-8.          if (warn != 0)\\n-7. ...</td>\n",
       "      <td>1</td>\n",
       "    </tr>\n",
       "    <tr>\n",
       "      <th>4</th>\n",
       "      <td>/*ZLIB_VERNUM &gt;= 0x1240*/</td>\n",
       "      <td>#if ZLIB_VERNUM &gt;= 0x1240\\n\\n/*ZLIB_VERNUM &gt;= ...</td>\n",
       "      <td>1</td>\n",
       "    </tr>\n",
       "  </tbody>\n",
       "</table>\n",
       "</div>"
      ],
      "text/plain": [
       "                                            Comments  \\\n",
       "0                             /*READ_INT_FUNCTIONS*/   \n",
       "1   /*Put the chunk name into png_ptr->chunk_name.*/   \n",
       "2                                       /*critical*/   \n",
       "3  /*READ_iCCP|iTXt|pCAL|sCAL|sPLT|tEXt|zTXt|SEQU...   \n",
       "4                          /*ZLIB_VERNUM >= 0x1240*/   \n",
       "\n",
       "                            Surrounding Code Context Class  \n",
       "0  -5.    if (png_ptr != NULL)\\n-4.       png_war...     1  \n",
       "1  -2.    png_read_data(png_ptr, buf, 8);\\n-1.   ...     1  \n",
       "2  -8. png_crc_read(png_structrp png_ptr, png_byt...     1  \n",
       "3  -9.       {\\n-8.          if (warn != 0)\\n-7. ...     1  \n",
       "4  #if ZLIB_VERNUM >= 0x1240\\n\\n/*ZLIB_VERNUM >= ...     1  "
      ]
     },
     "execution_count": 12,
     "metadata": {},
     "output_type": "execute_result"
    }
   ],
   "source": [
    "data.head()"
   ]
  },
  {
   "cell_type": "code",
   "execution_count": 13,
   "id": "2cc0866f",
   "metadata": {},
   "outputs": [
    {
     "data": {
      "text/html": [
       "<div>\n",
       "<style scoped>\n",
       "    .dataframe tbody tr th:only-of-type {\n",
       "        vertical-align: middle;\n",
       "    }\n",
       "\n",
       "    .dataframe tbody tr th {\n",
       "        vertical-align: top;\n",
       "    }\n",
       "\n",
       "    .dataframe thead th {\n",
       "        text-align: right;\n",
       "    }\n",
       "</style>\n",
       "<table border=\"1\" class=\"dataframe\">\n",
       "  <thead>\n",
       "    <tr style=\"text-align: right;\">\n",
       "      <th></th>\n",
       "      <th>Comments</th>\n",
       "      <th>Surrounding Code Context</th>\n",
       "      <th>Class</th>\n",
       "    </tr>\n",
       "  </thead>\n",
       "  <tbody>\n",
       "    <tr>\n",
       "      <th>996</th>\n",
       "      <td>/*The following document where the background ...</td>\n",
       "      <td>-5. #define PNG_CMAP_NONE      0\\n\\n /*The fol...</td>\n",
       "      <td>0</td>\n",
       "    </tr>\n",
       "    <tr>\n",
       "      <th>997</th>\n",
       "      <td>/*Do all the *safe* initialization - 'safe' me...</td>\n",
       "      <td>-1. } png_image_read_control;\\n/* Do all the *...</td>\n",
       "      <td>0</td>\n",
       "    </tr>\n",
       "    <tr>\n",
       "      <th>998</th>\n",
       "      <td>/*And set the rest of the structure to NULL to...</td>\n",
       "      <td>-10.  * called from here must *not* call png_m...</td>\n",
       "      <td>0</td>\n",
       "    </tr>\n",
       "    <tr>\n",
       "      <th>999</th>\n",
       "      <td>/*Use png_ptr here, not info_ptr, because by e...</td>\n",
       "      <td>-8. static png_uint_32\\n-7. png_image_format(p...</td>\n",
       "      <td>0</td>\n",
       "    </tr>\n",
       "    <tr>\n",
       "      <th>1000</th>\n",
       "      <td>/*Is the given gamma significantly different f...</td>\n",
       "      <td>-10.     * is unclear.\\n-9.     */\\n-8.    els...</td>\n",
       "      <td>0</td>\n",
       "    </tr>\n",
       "  </tbody>\n",
       "</table>\n",
       "</div>"
      ],
      "text/plain": [
       "                                               Comments  \\\n",
       "996   /*The following document where the background ...   \n",
       "997   /*Do all the *safe* initialization - 'safe' me...   \n",
       "998   /*And set the rest of the structure to NULL to...   \n",
       "999   /*Use png_ptr here, not info_ptr, because by e...   \n",
       "1000  /*Is the given gamma significantly different f...   \n",
       "\n",
       "                               Surrounding Code Context Class  \n",
       "996   -5. #define PNG_CMAP_NONE      0\\n\\n /*The fol...     0  \n",
       "997   -1. } png_image_read_control;\\n/* Do all the *...     0  \n",
       "998   -10.  * called from here must *not* call png_m...     0  \n",
       "999   -8. static png_uint_32\\n-7. png_image_format(p...     0  \n",
       "1000  -10.     * is unclear.\\n-9.     */\\n-8.    els...     0  "
      ]
     },
     "execution_count": 13,
     "metadata": {},
     "output_type": "execute_result"
    }
   ],
   "source": [
    "data.tail()"
   ]
  },
  {
   "cell_type": "code",
   "execution_count": 14,
   "id": "66494353",
   "metadata": {},
   "outputs": [
    {
     "data": {
      "text/html": [
       "<div>\n",
       "<style scoped>\n",
       "    .dataframe tbody tr th:only-of-type {\n",
       "        vertical-align: middle;\n",
       "    }\n",
       "\n",
       "    .dataframe tbody tr th {\n",
       "        vertical-align: top;\n",
       "    }\n",
       "\n",
       "    .dataframe thead th {\n",
       "        text-align: right;\n",
       "    }\n",
       "</style>\n",
       "<table border=\"1\" class=\"dataframe\">\n",
       "  <thead>\n",
       "    <tr style=\"text-align: right;\">\n",
       "      <th></th>\n",
       "      <th>Comments</th>\n",
       "      <th>Surrounding Code Context</th>\n",
       "      <th>Class</th>\n",
       "    </tr>\n",
       "  </thead>\n",
       "  <tbody>\n",
       "    <tr>\n",
       "      <th>0</th>\n",
       "      <td>/*READ_INT_FUNCTIONS*/</td>\n",
       "      <td>-5.    if (png_ptr != NULL)\\n-4.       png_war...</td>\n",
       "      <td>1</td>\n",
       "    </tr>\n",
       "    <tr>\n",
       "      <th>1</th>\n",
       "      <td>/*Put the chunk name into png_ptr-&gt;chunk_name.*/</td>\n",
       "      <td>-2.    png_read_data(png_ptr, buf, 8);\\n-1.   ...</td>\n",
       "      <td>1</td>\n",
       "    </tr>\n",
       "    <tr>\n",
       "      <th>2</th>\n",
       "      <td>/*critical*/</td>\n",
       "      <td>-8. png_crc_read(png_structrp png_ptr, png_byt...</td>\n",
       "      <td>1</td>\n",
       "    </tr>\n",
       "    <tr>\n",
       "      <th>3</th>\n",
       "      <td>/*READ_iCCP|iTXt|pCAL|sCAL|sPLT|tEXt|zTXt|SEQU...</td>\n",
       "      <td>-9.       {\\n-8.          if (warn != 0)\\n-7. ...</td>\n",
       "      <td>1</td>\n",
       "    </tr>\n",
       "    <tr>\n",
       "      <th>4</th>\n",
       "      <td>/*ZLIB_VERNUM &gt;= 0x1240*/</td>\n",
       "      <td>#if ZLIB_VERNUM &gt;= 0x1240\\n\\n/*ZLIB_VERNUM &gt;= ...</td>\n",
       "      <td>1</td>\n",
       "    </tr>\n",
       "    <tr>\n",
       "      <th>...</th>\n",
       "      <td>...</td>\n",
       "      <td>...</td>\n",
       "      <td>...</td>\n",
       "    </tr>\n",
       "    <tr>\n",
       "      <th>996</th>\n",
       "      <td>/*The following document where the background ...</td>\n",
       "      <td>-5. #define PNG_CMAP_NONE      0\\n\\n /*The fol...</td>\n",
       "      <td>0</td>\n",
       "    </tr>\n",
       "    <tr>\n",
       "      <th>997</th>\n",
       "      <td>/*Do all the *safe* initialization - 'safe' me...</td>\n",
       "      <td>-1. } png_image_read_control;\\n/* Do all the *...</td>\n",
       "      <td>0</td>\n",
       "    </tr>\n",
       "    <tr>\n",
       "      <th>998</th>\n",
       "      <td>/*And set the rest of the structure to NULL to...</td>\n",
       "      <td>-10.  * called from here must *not* call png_m...</td>\n",
       "      <td>0</td>\n",
       "    </tr>\n",
       "    <tr>\n",
       "      <th>999</th>\n",
       "      <td>/*Use png_ptr here, not info_ptr, because by e...</td>\n",
       "      <td>-8. static png_uint_32\\n-7. png_image_format(p...</td>\n",
       "      <td>0</td>\n",
       "    </tr>\n",
       "    <tr>\n",
       "      <th>1000</th>\n",
       "      <td>/*Is the given gamma significantly different f...</td>\n",
       "      <td>-10.     * is unclear.\\n-9.     */\\n-8.    els...</td>\n",
       "      <td>0</td>\n",
       "    </tr>\n",
       "  </tbody>\n",
       "</table>\n",
       "<p>1001 rows × 3 columns</p>\n",
       "</div>"
      ],
      "text/plain": [
       "                                               Comments  \\\n",
       "0                                /*READ_INT_FUNCTIONS*/   \n",
       "1      /*Put the chunk name into png_ptr->chunk_name.*/   \n",
       "2                                          /*critical*/   \n",
       "3     /*READ_iCCP|iTXt|pCAL|sCAL|sPLT|tEXt|zTXt|SEQU...   \n",
       "4                             /*ZLIB_VERNUM >= 0x1240*/   \n",
       "...                                                 ...   \n",
       "996   /*The following document where the background ...   \n",
       "997   /*Do all the *safe* initialization - 'safe' me...   \n",
       "998   /*And set the rest of the structure to NULL to...   \n",
       "999   /*Use png_ptr here, not info_ptr, because by e...   \n",
       "1000  /*Is the given gamma significantly different f...   \n",
       "\n",
       "                               Surrounding Code Context Class  \n",
       "0     -5.    if (png_ptr != NULL)\\n-4.       png_war...     1  \n",
       "1     -2.    png_read_data(png_ptr, buf, 8);\\n-1.   ...     1  \n",
       "2     -8. png_crc_read(png_structrp png_ptr, png_byt...     1  \n",
       "3     -9.       {\\n-8.          if (warn != 0)\\n-7. ...     1  \n",
       "4     #if ZLIB_VERNUM >= 0x1240\\n\\n/*ZLIB_VERNUM >= ...     1  \n",
       "...                                                 ...   ...  \n",
       "996   -5. #define PNG_CMAP_NONE      0\\n\\n /*The fol...     0  \n",
       "997   -1. } png_image_read_control;\\n/* Do all the *...     0  \n",
       "998   -10.  * called from here must *not* call png_m...     0  \n",
       "999   -8. static png_uint_32\\n-7. png_image_format(p...     0  \n",
       "1000  -10.     * is unclear.\\n-9.     */\\n-8.    els...     0  \n",
       "\n",
       "[1001 rows x 3 columns]"
      ]
     },
     "execution_count": 14,
     "metadata": {},
     "output_type": "execute_result"
    }
   ],
   "source": [
    "data"
   ]
  },
  {
   "cell_type": "code",
   "execution_count": 15,
   "id": "27f31491",
   "metadata": {},
   "outputs": [
    {
     "data": {
      "text/plain": [
       "1    719\n",
       "0    282\n",
       "Name: Class, dtype: int64"
      ]
     },
     "execution_count": 15,
     "metadata": {},
     "output_type": "execute_result"
    }
   ],
   "source": [
    "data[\"Class\"].value_counts()"
   ]
  },
  {
   "cell_type": "code",
   "execution_count": 16,
   "id": "c50cafdf",
   "metadata": {},
   "outputs": [
    {
     "name": "stderr",
     "output_type": "stream",
     "text": [
      "No artists with labels found to put in legend.  Note that artists whose label start with an underscore are ignored when legend() is called with no argument.\n"
     ]
    },
    {
     "data": {
      "image/png": "[encoded data removed]",
      "text/plain": [
       "<Figure size 504x504 with 1 Axes>"
      ]
     },
     "metadata": {},
     "output_type": "display_data"
    }
   ],
   "source": [
    "# check if the dataset is balanced\n",
    "Class = [\"Not Useful\", \"Useful\"]\n",
    "colors = [\"olivedrab\", \"silver\"]\n",
    "\n",
    "plt.figure(figsize=(7,7))\n",
    "plt.pie(data[\"Class\"].value_counts(), colors=colors, autopct=\"%1.1f%%\")\n",
    "plt.legend(title = \"Comments status\")\n",
    "plt.title(\"Dataset distribution\")\n",
    "plt.show()"
   ]
  },
  {
   "cell_type": "code",
   "execution_count": 17,
   "id": "29775209",
   "metadata": {},
   "outputs": [],
   "source": [
    "X = data['Comments']\n",
    "y = data['Class'] "
   ]
  },
  {
   "cell_type": "code",
   "execution_count": 18,
   "id": "b2d2610c",
   "metadata": {},
   "outputs": [
    {
     "data": {
      "text/plain": [
       "(1001,)"
      ]
     },
     "execution_count": 18,
     "metadata": {},
     "output_type": "execute_result"
    }
   ],
   "source": [
    "X.shape"
   ]
  },
  {
   "cell_type": "code",
   "execution_count": 19,
   "id": "a42eb321",
   "metadata": {},
   "outputs": [
    {
     "data": {
      "text/plain": [
       "(1001,)"
      ]
     },
     "execution_count": 19,
     "metadata": {},
     "output_type": "execute_result"
    }
   ],
   "source": [
    "y.shape"
   ]
  },
  {
   "cell_type": "code",
   "execution_count": 20,
   "id": "dc58c440",
   "metadata": {},
   "outputs": [],
   "source": [
    "from keras.preprocessing.text import Tokenizer\n",
    "\n",
    "tokenizer = Tokenizer()\n",
    "tokenizer.fit_on_texts(X)"
   ]
  },
  {
   "cell_type": "code",
   "execution_count": 21,
   "id": "6ef789ec",
   "metadata": {},
   "outputs": [],
   "source": [
    "embedded_data = tokenizer.texts_to_sequences(X)"
   ]
  },
  {
   "cell_type": "code",
   "execution_count": 22,
   "id": "25f26a7d",
   "metadata": {},
   "outputs": [],
   "source": [
    "from tensorflow.keras.preprocessing.sequence import pad_sequences"
   ]
  },
  {
   "cell_type": "code",
   "execution_count": 23,
   "id": "97770bd4",
   "metadata": {},
   "outputs": [],
   "source": [
    "# pad to the longest item in the dataset\n",
    "max_length = max([len(Comments) for Comments  in X])\n",
    "\n",
    "X = pad_sequences(embedded_data,\n",
    "                  value=0,\n",
    "                  padding=\"post\",\n",
    "                  maxlen=max_length)"
   ]
  },
  {
   "cell_type": "code",
   "execution_count": 24,
   "id": "c47a1541",
   "metadata": {},
   "outputs": [
    {
     "data": {
      "text/plain": [
       "array([[  7, 114, 184, ...,   0,   0,   0],\n",
       "       [568,   1,  20, ...,   0,   0,   0],\n",
       "       [369,   0,   0, ...,   0,   0,   0],\n",
       "       [  7, 186, 312, ...,   0,   0,   0],\n",
       "       [171, 450, 569, ...,   0,   0,   0]])"
      ]
     },
     "execution_count": 24,
     "metadata": {},
     "output_type": "execute_result"
    }
   ],
   "source": [
    "X[:5]"
   ]
  },
  {
   "cell_type": "code",
   "execution_count": 25,
   "id": "72f7065c",
   "metadata": {},
   "outputs": [],
   "source": [
    "from sklearn.model_selection import train_test_split\n",
    "X_train, X_remaining, y_train, y_remaining = train_test_split(X, y, test_size = 0.2)\n"
   ]
  },
  {
   "cell_type": "code",
   "execution_count": 26,
   "id": "a98fb3c6",
   "metadata": {},
   "outputs": [],
   "source": [
    "X_valid, X_test, y_valid, y_test = train_test_split(X_remaining, y_remaining, test_size = 0.5)\n"
   ]
  },
  {
   "cell_type": "code",
   "execution_count": 27,
   "id": "5765e02b",
   "metadata": {},
   "outputs": [
    {
     "data": {
      "text/plain": [
       "array([[384, 162, 231, ...,   0,   0,   0],\n",
       "       [ 15, 170,   0, ...,   0,   0,   0],\n",
       "       [442,  11,  17, ...,   0,   0,   0],\n",
       "       [140,  14, 155, ...,   0,   0,   0],\n",
       "       [  8,   4, 179, ...,   0,   0,   0]])"
      ]
     },
     "execution_count": 27,
     "metadata": {},
     "output_type": "execute_result"
    }
   ],
   "source": [
    "X_train[:5]"
   ]
  },
  {
   "cell_type": "code",
   "execution_count": 28,
   "id": "c33d8e8b",
   "metadata": {},
   "outputs": [
    {
     "data": {
      "text/plain": [
       "array([[ 295,    0,    0, ...,    0,    0,    0],\n",
       "       [   9,    1,   48, ...,    0,    0,    0],\n",
       "       [ 321,    3, 1072, ...,    0,    0,    0],\n",
       "       [   1,  202,  285, ...,    0,    0,    0],\n",
       "       [ 188,    0,    0, ...,    0,    0,    0]])"
      ]
     },
     "execution_count": 28,
     "metadata": {},
     "output_type": "execute_result"
    }
   ],
   "source": [
    "X_test[:5]"
   ]
  },
  {
   "cell_type": "code",
   "execution_count": 29,
   "id": "dc73539c",
   "metadata": {},
   "outputs": [
    {
     "data": {
      "text/plain": [
       "array([[ 92,   0,   0, ...,   0,   0,   0],\n",
       "       [ 29,   0,   0, ...,   0,   0,   0],\n",
       "       [ 10,   1, 409, ...,   0,   0,   0],\n",
       "       [297,   0,   0, ...,   0,   0,   0],\n",
       "       [ 74,   0,   0, ...,   0,   0,   0]])"
      ]
     },
     "execution_count": 29,
     "metadata": {},
     "output_type": "execute_result"
    }
   ],
   "source": [
    "X_valid[:5]"
   ]
  },
  {
   "cell_type": "code",
   "execution_count": 30,
   "id": "3c5c5a4a",
   "metadata": {},
   "outputs": [
    {
     "data": {
      "text/plain": [
       "227    1\n",
       "466    1\n",
       "860    0\n",
       "697    1\n",
       "416    1\n",
       "Name: Class, dtype: object"
      ]
     },
     "execution_count": 30,
     "metadata": {},
     "output_type": "execute_result"
    }
   ],
   "source": [
    "y_valid[:5]"
   ]
  },
  {
   "cell_type": "code",
   "execution_count": 31,
   "id": "f7a7acf6",
   "metadata": {},
   "outputs": [
    {
     "data": {
      "text/plain": [
       "134    1\n",
       "245    1\n",
       "873    0\n",
       "839    0\n",
       "359    1\n",
       "Name: Class, dtype: object"
      ]
     },
     "execution_count": 31,
     "metadata": {},
     "output_type": "execute_result"
    }
   ],
   "source": [
    "y_train[:5]"
   ]
  },
  {
   "cell_type": "code",
   "execution_count": 32,
   "id": "7bdb4ca9",
   "metadata": {},
   "outputs": [],
   "source": [
    "from sklearn.ensemble import RandomForestClassifier\n",
    "\n",
    "RF_classifier = RandomForestClassifier(n_estimators = 10, criterion = 'entropy')"
   ]
  },
  {
   "cell_type": "code",
   "execution_count": 33,
   "id": "f91ef38e",
   "metadata": {},
   "outputs": [],
   "source": [
    "# fixes some errors\n",
    "y_train = np.array(y_train, dtype=float)\n",
    "y_valid = np.array(y_valid, dtype=float)\n",
    "y_test = np.array(y_test, dtype=float)"
   ]
  },
  {
   "cell_type": "code",
   "execution_count": 34,
   "id": "4d65edb3",
   "metadata": {},
   "outputs": [
    {
     "data": {
      "text/plain": [
       "RandomForestClassifier(criterion='entropy', n_estimators=10)"
      ]
     },
     "execution_count": 34,
     "metadata": {},
     "output_type": "execute_result"
    }
   ],
   "source": [
    "RF_classifier.fit(X_train, y_train)"
   ]
  },
  {
   "cell_type": "code",
   "execution_count": 35,
   "id": "30527fc6",
   "metadata": {},
   "outputs": [],
   "source": [
    "y_pred = RF_classifier.predict(X_test)"
   ]
  },
  {
   "cell_type": "code",
   "execution_count": 36,
   "id": "63b62ce5",
   "metadata": {},
   "outputs": [
    {
     "name": "stdout",
     "output_type": "stream",
     "text": [
      "              precision    recall  f1-score   support\n",
      "\n",
      "         0.0       0.91      0.94      0.92        31\n",
      "         1.0       0.97      0.96      0.96        70\n",
      "\n",
      "    accuracy                           0.95       101\n",
      "   macro avg       0.94      0.95      0.94       101\n",
      "weighted avg       0.95      0.95      0.95       101\n",
      "\n"
     ]
    }
   ],
   "source": [
    "from sklearn.metrics import classification_report\n",
    "\n",
    "print(classification_report(y_test, y_pred))"
   ]
  },
  {
   "cell_type": "code",
   "execution_count": 37,
   "id": "08f0e07a",
   "metadata": {},
   "outputs": [],
   "source": [
    "#Useful Comment\n",
    "my_message = ['/*Evaluate first and second derivatives*/']"
   ]
  },
  {
   "cell_type": "code",
   "execution_count": 38,
   "id": "82b191f4",
   "metadata": {},
   "outputs": [],
   "source": [
    "def preprocess(text):\n",
    "  text = tokenizer.texts_to_sequences(text)\n",
    "  text = pad_sequences(text,\n",
    "                      value=0,\n",
    "                      padding=\"post\",\n",
    "                      maxlen=max_length)\n",
    "  return text"
   ]
  },
  {
   "cell_type": "code",
   "execution_count": 39,
   "id": "a7f158b9",
   "metadata": {},
   "outputs": [],
   "source": [
    "new_message = preprocess(my_message)"
   ]
  },
  {
   "cell_type": "code",
   "execution_count": 55,
   "id": "ab8fcb91",
   "metadata": {},
   "outputs": [],
   "source": [
    "output = RF_classifier.predict(new_message)\n",
    "\n",
    "def prediction(output):\n",
    "   if output[0] == 1:\n",
    "     return \"Not Useful\"\n",
    "   else:\n",
    "     return \"Useful\""
   ]
  },
  {
   "cell_type": "code",
   "execution_count": 56,
   "id": "3e618fb1",
   "metadata": {},
   "outputs": [
    {
     "data": {
      "text/plain": [
       "'Not Useful'"
      ]
     },
     "execution_count": 56,
     "metadata": {},
     "output_type": "execute_result"
    }
   ],
   "source": [
    "# so wrong\n",
    "prediction(output)"
   ]
  },
  {
   "cell_type": "code",
   "execution_count": 57,
   "id": "93c305a4",
   "metadata": {},
   "outputs": [],
   "source": [
    "from keras.models import Sequential\n",
    "from keras.layers import Input, Embedding, LSTM, GlobalMaxPool1D, Dense"
   ]
  },
  {
   "cell_type": "code",
   "execution_count": 58,
   "id": "c5e0e99a",
   "metadata": {},
   "outputs": [],
   "source": [
    "INPUT_SHAPE = X_train.shape[1]\n",
    "VOCABULARY_SIZE = len(tokenizer.word_index)\n",
    "EMBEDDING_DIMENSION = 20\n",
    "LSTM_UNITS = 15"
   ]
  },
  {
   "cell_type": "code",
   "execution_count": 59,
   "id": "3036117e",
   "metadata": {},
   "outputs": [],
   "source": [
    "rnn = Sequential()\n",
    "\n",
    "rnn.add(Input(INPUT_SHAPE,))\n",
    "# +1 here resolves the indexing problem during training\n",
    "rnn.add(Embedding(VOCABULARY_SIZE+1, EMBEDDING_DIMENSION))\n",
    "\n",
    "rnn.add(LSTM(LSTM_UNITS, return_sequences=True))\n",
    "\n",
    "rnn.add(GlobalMaxPool1D())\n",
    "\n",
    "rnn.add(Dense(units=1, activation=\"sigmoid\"))"
   ]
  },
  {
   "cell_type": "code",
   "execution_count": 60,
   "id": "13300d32",
   "metadata": {},
   "outputs": [],
   "source": [
    "rnn.compile(optimizer=\"adam\", loss=\"binary_crossentropy\", metrics=[\"accuracy\"])"
   ]
  },
  {
   "cell_type": "code",
   "execution_count": 61,
   "id": "1b0f93ea",
   "metadata": {},
   "outputs": [
    {
     "name": "stdout",
     "output_type": "stream",
     "text": [
      "Model: \"sequential_1\"\n",
      "_________________________________________________________________\n",
      " Layer (type)                Output Shape              Param #   \n",
      "=================================================================\n",
      " embedding_1 (Embedding)     (None, 1800, 20)          28520     \n",
      "                                                                 \n",
      " lstm_1 (LSTM)               (None, 1800, 15)          2160      \n",
      "                                                                 \n",
      " global_max_pooling1d_1 (Glo  (None, 15)               0         \n",
      " balMaxPooling1D)                                                \n",
      "                                                                 \n",
      " dense_1 (Dense)             (None, 1)                 16        \n",
      "                                                                 \n",
      "=================================================================\n",
      "Total params: 30,696\n",
      "Trainable params: 30,696\n",
      "Non-trainable params: 0\n",
      "_________________________________________________________________\n"
     ]
    }
   ],
   "source": [
    "rnn.summary()"
   ]
  },
  {
   "cell_type": "code",
   "execution_count": 62,
   "id": "0f20be64",
   "metadata": {},
   "outputs": [],
   "source": [
    "BATCH_SIZE = 32\n",
    "EPOCHS = 5"
   ]
  },
  {
   "cell_type": "code",
   "execution_count": 63,
   "id": "0646ac8d",
   "metadata": {},
   "outputs": [
    {
     "name": "stdout",
     "output_type": "stream",
     "text": [
      "Epoch 1/5\n",
      "25/25 [==============================] - 27s 991ms/step - loss: 0.6676 - accuracy: 0.7163 - val_loss: 0.6139 - val_accuracy: 0.7600\n",
      "Epoch 2/5\n",
      "25/25 [==============================] - 24s 960ms/step - loss: 0.6052 - accuracy: 0.7163 - val_loss: 0.5545 - val_accuracy: 0.7600\n",
      "Epoch 3/5\n",
      "25/25 [==============================] - 24s 971ms/step - loss: 0.5865 - accuracy: 0.7163 - val_loss: 0.5411 - val_accuracy: 0.7600\n",
      "Epoch 4/5\n",
      "25/25 [==============================] - 24s 963ms/step - loss: 0.5604 - accuracy: 0.7163 - val_loss: 0.5192 - val_accuracy: 0.7600\n",
      "Epoch 5/5\n",
      "25/25 [==============================] - 24s 948ms/step - loss: 0.4656 - accuracy: 0.7850 - val_loss: 0.3755 - val_accuracy: 0.9400\n"
     ]
    },
    {
     "data": {
      "text/plain": [
       "<keras.callbacks.History at 0x1fd1f93e430>"
      ]
     },
     "execution_count": 63,
     "metadata": {},
     "output_type": "execute_result"
    }
   ],
   "source": [
    "rnn.fit(X_train, y_train, epochs=EPOCHS, validation_data=(X_valid, y_valid), batch_size=BATCH_SIZE)"
   ]
  },
  {
   "cell_type": "code",
   "execution_count": 64,
   "id": "08bc848b",
   "metadata": {},
   "outputs": [
    {
     "data": {
      "image/png": "[encoded data removed]",
      "text/plain": [
       "<Figure size 432x288 with 1 Axes>"
      ]
     },
     "metadata": {
      "needs_background": "light"
     },
     "output_type": "display_data"
    }
   ],
   "source": [
    "# MODAL EVALUATION\n",
    "plt.plot(rnn.history.history[\"loss\"], label=\"Loss\", color=colors[0])\n",
    "plt.plot(rnn.history.history[\"val_loss\"], label=\"Validation Loss\", color=colors[1])\n",
    "plt.title(\"Loss metrics\")\n",
    "plt.legend()\n",
    "plt.show()"
   ]
  },
  {
   "cell_type": "code",
   "execution_count": 65,
   "id": "2860d457",
   "metadata": {},
   "outputs": [
    {
     "data": {
      "image/png": "[encoded data removed]",
      "text/plain": [
       "<Figure size 432x288 with 1 Axes>"
      ]
     },
     "metadata": {
      "needs_background": "light"
     },
     "output_type": "display_data"
    }
   ],
   "source": [
    "plt.plot(rnn.history.history[\"accuracy\"], label=\"Accuracy\", color=colors[0])\n",
    "plt.plot(rnn.history.history[\"val_accuracy\"], label=\"Validation accuracy\", color=colors[1])\n",
    "plt.title(\"Accuracy metrics\")\n",
    "plt.legend()\n",
    "plt.show()"
   ]
  },
  {
   "cell_type": "code",
   "execution_count": 66,
   "id": "71d7eca8",
   "metadata": {},
   "outputs": [
    {
     "name": "stdout",
     "output_type": "stream",
     "text": [
      "4/4 [==============================] - 1s 229ms/step - loss: 0.3805 - accuracy: 0.9406\n"
     ]
    },
    {
     "data": {
      "text/plain": [
       "[0.3804636597633362, 0.9405940771102905]"
      ]
     },
     "execution_count": 66,
     "metadata": {},
     "output_type": "execute_result"
    }
   ],
   "source": [
    "rnn.evaluate(X_test, y_test, verbose=1)"
   ]
  },
  {
   "cell_type": "code",
   "execution_count": 67,
   "id": "cda0c669",
   "metadata": {},
   "outputs": [
    {
     "name": "stdout",
     "output_type": "stream",
     "text": [
      "1/1 [==============================] - 0s 435ms/step\n"
     ]
    }
   ],
   "source": [
    "output = rnn.predict(new_message)"
   ]
  },
  {
   "cell_type": "code",
   "execution_count": 68,
   "id": "a0e71634",
   "metadata": {},
   "outputs": [],
   "source": [
    "def prediction(output):\n",
    "   if output[0][0] > 0.5:\n",
    "     return \"Not Useful\"\n",
    "   else:\n",
    "     return \"Useful\""
   ]
  },
  {
   "cell_type": "code",
   "execution_count": 69,
   "id": "a5e55c8b",
   "metadata": {},
   "outputs": [
    {
     "data": {
      "text/plain": [
       "'Useful'"
      ]
     },
     "execution_count": 69,
     "metadata": {},
     "output_type": "execute_result"
    }
   ],
   "source": [
    "prediction(output)"
   ]
  },
  {
   "cell_type": "code",
   "execution_count": null,
   "id": "7b97c84a",
   "metadata": {},
   "outputs": [],
   "source": []
  }
 ],
 "metadata": {
  "kernelspec": {
   "display_name": "Python 3 (ipykernel)",
   "language": "python",
   "name": "python3"
  },
  "language_info": {
   "codemirror_mode": {
    "name": "ipython",
    "version": 3
   },
   "file_extension": ".py",
   "mimetype": "text/x-python",
   "name": "python",
   "nbconvert_exporter": "python",
   "pygments_lexer": "ipython3",
   "version": "3.9.12"
  }
 },
 "nbformat": 4,
 "nbformat_minor": 5
}
